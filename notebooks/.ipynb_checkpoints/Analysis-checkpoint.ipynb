{
 "cells": [
  {
   "cell_type": "code",
   "execution_count": null,
   "id": "e5d1a22d-8f3c-46c7-bcb5-b33738dfdd02",
   "metadata": {},
   "outputs": [],
   "source": [
    "import geopandas as gpd\n",
    "\n",
    "import pandas as pd\n",
    "import numpy as np\n",
    "from datetime import datetime, timedelta"
   ]
  },
  {
   "cell_type": "code",
   "execution_count": null,
   "id": "fae430c2-cd10-474a-b93c-f8757d3c1cc5",
   "metadata": {},
   "outputs": [],
   "source": [
    "data_dir = '/data/energy/REC/MA/Arlington/'\n",
    "\n",
    "converters = dict ( )\n",
    "\n",
    "for x in ['attributes', 'entity','financials', 'dates', 'location', 'amps', 'watts', 'joules', 'ohm','xref', 'governance']:\n",
    "    converters[x]=eval\n",
    "\n",
    "matched = pd.read_csv(data_dir+'PV_complete.tsv',sep='\\t',converters=converters)\n",
    "unmatched = pd.read_csv(data_dir+'PV_unmatched.tsv',sep='\\t',converters=converters)\n",
    "\n",
    "PVmatched       =  gpd . read_file ( data_dir + 'PV_complete.geojson' )  \n",
    "solar_systems   =  gpd . read_file ( data_dir + 'solar_systems.geojson' )\n"
   ]
  },
  {
   "cell_type": "code",
   "execution_count": null,
   "id": "19c795fd-33c8-493c-89be-c1a002076a35",
   "metadata": {},
   "outputs": [],
   "source": [
    "print(\n",
    "    '\\nmatched   : ',len(matched),\n",
    "    '\\nunmatched : ',len(unmatched),\n",
    "    '\\nPV IDed   : ',len(PVmatched),\n",
    "    '\\nall       : ',len(solar_systems),\n",
    ")"
   ]
  },
  {
   "cell_type": "code",
   "execution_count": null,
   "id": "2a3c2988-04db-4f23-9f61-755a5e808b9c",
   "metadata": {
    "tags": []
   },
   "outputs": [],
   "source": [
    "def unpack(df, column, fillna=None):\n",
    "    ret = None\n",
    "    if fillna is None:\n",
    "        ret = pd.concat([df, pd.DataFrame((d for idx, d in df[column].iteritems()))], axis=1)\n",
    "        del ret[column]\n",
    "    else:\n",
    "        ret = pd.concat([df, pd.DataFrame((d for idx, d in df[column].iteritems())).fillna(fillna)], axis=1)\n",
    "        del ret[column]\n",
    "    return ret\n",
    "\n",
    "\n",
    "unpack(unmatched,'dates').sort_values('effective_date_permit',ascending=False)"
   ]
  },
  {
   "cell_type": "code",
   "execution_count": null,
   "id": "c637ffb3-9b30-42b4-9d99-09ef8af247e8",
   "metadata": {},
   "outputs": [],
   "source": [
    "import shapely\n",
    "unmatched['geometry']= gpd.GeoSeries.from_wkt(unmatched['geometry'])"
   ]
  },
  {
   "cell_type": "code",
   "execution_count": null,
   "id": "f3bf87fb-0309-48fe-8dd4-2a66b8c88ea5",
   "metadata": {},
   "outputs": [],
   "source": [
    "PVunmatched = gpd.GeoDataFrame(unmatched)\n",
    "PVunmatched . to_file ( data_dir + 'PV_unmmatched.geojson' )"
   ]
  },
  {
   "cell_type": "code",
   "execution_count": null,
   "id": "a41e44e7-84a9-46a0-bf0e-1e4ea53d4a23",
   "metadata": {},
   "outputs": [],
   "source": []
  },
  {
   "cell_type": "code",
   "execution_count": null,
   "id": "e6b360e3-0098-40fc-9e43-6d149fac634d",
   "metadata": {},
   "outputs": [],
   "source": []
  }
 ],
 "metadata": {
  "kernelspec": {
   "display_name": "Python 3 (ipykernel)",
   "language": "python",
   "name": "python3"
  },
  "language_info": {
   "codemirror_mode": {
    "name": "ipython",
    "version": 3
   },
   "file_extension": ".py",
   "mimetype": "text/x-python",
   "name": "python",
   "nbconvert_exporter": "python",
   "pygments_lexer": "ipython3",
   "version": "3.8.10"
  }
 },
 "nbformat": 4,
 "nbformat_minor": 5
}
