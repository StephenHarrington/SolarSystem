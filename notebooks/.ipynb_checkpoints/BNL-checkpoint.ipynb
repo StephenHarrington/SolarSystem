{
 "cells": [
  {
   "cell_type": "code",
   "execution_count": null,
   "id": "8becc328-aba8-418c-b0c6-d96c9e7d92cf",
   "metadata": {},
   "outputs": [],
   "source": [
    "import pandas as pd"
   ]
  },
  {
   "cell_type": "code",
   "execution_count": null,
   "id": "5083a2a7-d43a-4779-886c-d6adb3a72353",
   "metadata": {},
   "outputs": [],
   "source": [
    "lbnl1 = pd.read_csv('/data/energy/US/LBNL/TTS_LBNL_public_file_06-Sep-2021_p1.csv',sep=',')\n",
    "lbnl2 = pd.read_csv('/data/energy/US/LBNL/TTS_LBNL_public_file_06-Sep-2021_p2.csv',sep=',')\n",
    "\n",
    "lbnl = lbnl1.append(lbnl2)"
   ]
  },
  {
   "cell_type": "code",
   "execution_count": null,
   "id": "4dd34525-cbf3-4f55-84c4-de9f3bf416ed",
   "metadata": {},
   "outputs": [],
   "source": [
    "lbnl['effective_date'] = pd.to_datetime(lbnl.installation_date,format='%d-%b-%Y',errors='coerce')\n",
    "\n",
    "mask = (lbnl.state=='MA') & (lbnl.city=='Arlington')\n",
    "print('BNL,{installs},{first},{last}'.format(installs=len(lbnl[mask]),first=lbnl[mask].effective_date.min(),last=lbnl[mask].effective_date.max()))\n",
    "\n",
    "lbnl.data_provider_1.unique()"
   ]
  },
  {
   "cell_type": "code",
   "execution_count": null,
   "id": "20521ac6-3ae2-4a15-b38c-655c1aefe5c0",
   "metadata": {},
   "outputs": [],
   "source": []
  }
 ],
 "metadata": {
  "kernelspec": {
   "display_name": "Python 3 (ipykernel)",
   "language": "python",
   "name": "python3"
  },
  "language_info": {
   "codemirror_mode": {
    "name": "ipython",
    "version": 3
   },
   "file_extension": ".py",
   "mimetype": "text/x-python",
   "name": "python",
   "nbconvert_exporter": "python",
   "pygments_lexer": "ipython3",
   "version": "3.8.10"
  }
 },
 "nbformat": 4,
 "nbformat_minor": 5
}
