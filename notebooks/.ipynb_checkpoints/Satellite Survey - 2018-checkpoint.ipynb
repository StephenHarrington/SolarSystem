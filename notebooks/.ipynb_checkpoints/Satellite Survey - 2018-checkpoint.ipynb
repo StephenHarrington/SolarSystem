{
 "cells": [
  {
   "cell_type": "markdown",
   "id": "d3297864-954f-4dd6-9714-d401e8d85f07",
   "metadata": {},
   "source": [
    "## Energy - PV Systems Satellite Machine Vision\n",
    "\n",
    "### [Global inventory of solar photovoltaic generating units](https://www.nature.com/articles/s41586-021-03957-7)\n",
    "\n",
    "* We mapped every large solar plant on the planet using satellites and machine learning - [EconoTimes](https://www.econotimes.com/We-mapped-every-large-solar-plant-on-the-planet-using-satellites-and-machine-learning-1620330)\n",
    "\n",
    "\n",
    "* Nature [dataset](https://zenodo.org/record/5005868)\n",
    "\n",
    "#### CV polygons and tiles\n",
    "\n",
    "* ***cv_tiles.geojson:*** 560 rectangular areas-of-interest used for sampling cross-validation data seeded from [WRI GPPDB](https://www.wri.org/research/global-database-power-plants)\n",
    "\n",
    "* ***cv_polygons.geojson:*** 6,281 polygons corresponding to all PV solar generating units present in cv_tiles.geojson at the end of 2018.\n",
    "\n",
    "#### Test tiles and polygons\n",
    "\n",
    "* ***test_tiles.geojson:*** 122 rectangular regions-of-interest used for building the test set.\n",
    "\n",
    "* ***test_polygons.geojson:*** 7,263 polygons corresponding to all utility-scale (>10kW) solar generating units present in test_tiles.geojson at the end of 2018.\n",
    "\n",
    "#### TRN tiles and polygons\n",
    "\n",
    "* ***trn_tiles.geojson:*** 18,570 rectangular areas-of-interest used for sampling training patch data.\n",
    "\n",
    "* ***trn_polygons.geojson:*** 36,882 polygons obtained from OSM in 2017 used to label training patches.\n",
    "\n",
    "#### Predicted\n",
    "\n",
    "* ***predicted_polygons.geojson:*** 68,661 polygons corresponding to predicted polygons in global deployment, capturing the status of deployed photovoltaic solar energy generating capacity at the end of 2018."
   ]
  },
  {
   "cell_type": "code",
   "execution_count": 1,
   "id": "f5ca0dc6-67cf-437e-b079-fedc33d674d8",
   "metadata": {},
   "outputs": [],
   "source": [
    "def get_dataset ( \n",
    "    url       =  'https://zenodo.org/record/5005868/files/{dataset}?download=1' ,\n",
    "    data_dir  =  '/data/energy/global/nature_dataset/'\n",
    ") :\n",
    "\n",
    "    import  geopandas  as  gpd\n",
    "\n",
    "    data = dict ( )\n",
    "\n",
    "    files = [ 'cv' , 'test' , 'trn' ]\n",
    "\n",
    "    for file in files:\n",
    "\n",
    "        for pORt in [ 'polygons' , 'tiles' ] :\n",
    "\n",
    "            dataset = file + '_' + pORt + '.geojson'\n",
    "            print ( dataset )\n",
    "            \n",
    "            try :\n",
    "                data [ dataset ] = gpd . read_file ( url . format ( dataset = dataset ) )\n",
    "            except:\n",
    "                print ( 'url not found' , dataset )\n",
    "                \n",
    "            data [ dataset ] . to_file ( data_dir + dataset )\n",
    "            \n",
    "    dataset = 'predicted_set.geojson'\n",
    "    data [ dataset ] = gpd . read_file ( url . format ( dataset = dataset ) )\n",
    "    data [ dataset ] . to_file ( data_dir + dataset )\n",
    "    \n",
    "    return data"
   ]
  },
  {
   "cell_type": "code",
   "execution_count": null,
   "id": "cede34d8-7588-44ed-988b-3fc485435b74",
   "metadata": {},
   "outputs": [],
   "source": [
    "nature_datasets = get_dataset ( )"
   ]
  },
  {
   "cell_type": "code",
   "execution_count": 6,
   "id": "c86e843e-6f90-4596-b432-a2fecb9085cd",
   "metadata": {},
   "outputs": [
    {
     "data": {
      "application/vnd.jupyter.widget-view+json": {
       "model_id": "804855a5af124ca39e4abfa797a8403d",
       "version_major": 2,
       "version_minor": 0
      },
      "text/plain": [
       "Canvas(toolbar=Toolbar(toolitems=[('Home', 'Reset original view', 'home', 'home'), ('Back', 'Back to previous …"
      ]
     },
     "metadata": {},
     "output_type": "display_data"
    }
   ],
   "source": [
    "import matplotlib.pyplot as plt\n",
    "import  geopandas  as  gpd\n",
    "\n",
    "%matplotlib widget\n",
    "\n",
    "USpredicted = gpd . read_file ( '/data/energy/global/nature_dataset/USpredicted.geojson' )\n",
    "\n",
    "states = gpd . read_file ( 'https://www2.census.gov/geo/tiger/GENZ2018/shp/cb_2018_us_state_5m.zip' ) . to_crs ( \"EPSG:4326\" ) \n",
    "\n",
    "fig, ax = plt . subplots ( ) \n",
    "\n",
    "ax1  =  USpredicted . geometry . boundary . plot ( color = 'blue' , ax = ax )\n",
    "ax2  =  states . geometry . boundary . plot ( color = 'lightgray' , linewidth = 1 , ax = ax )\n",
    "\n",
    "ax . set_axis_off ( )\n",
    "\n",
    "plt . title ( 'Solar arrays in USA\\nSatellite Survey - 2018' )\n",
    "plt . show ( )"
   ]
  },
  {
   "cell_type": "code",
   "execution_count": null,
   "id": "86c509c6-72b8-4700-92e8-040fbf8d0d77",
   "metadata": {},
   "outputs": [],
   "source": []
  },
  {
   "cell_type": "code",
   "execution_count": null,
   "id": "7489ef17-40f4-4f53-9374-16507abfcedc",
   "metadata": {},
   "outputs": [],
   "source": []
  },
  {
   "cell_type": "code",
   "execution_count": 13,
   "id": "90d51633-824a-46e4-80cc-dbceda1c3e1c",
   "metadata": {},
   "outputs": [
    {
     "name": "stdout",
     "output_type": "stream",
     "text": [
      "Predicted PV installs 68661 with 7638 in the US\n"
     ]
    },
    {
     "data": {
      "application/vnd.jupyter.widget-view+json": {
       "model_id": "49c7deb034004efcb9a48646b67c4260",
       "version_major": 2,
       "version_minor": 0
      },
      "text/plain": [
       "Canvas(toolbar=Toolbar(toolitems=[('Home', 'Reset original view', 'home', 'home'), ('Back', 'Back to previous …"
      ]
     },
     "metadata": {},
     "output_type": "display_data"
    }
   ],
   "source": [
    "import  geopandas  as  gpd\n",
    "import  matplotlib.pyplot as plt\n",
    "\n",
    "%matplotlib widget\n",
    "\n",
    "## 275M file, execution time about 1 minute \n",
    "#predicted     =  gpd . read_file ( 'https://zenodo.org/record/5005868/files/predicted_set.geojson?download=1' )\n",
    "#USpredicted   =  predicted [ predicted [ 'iso-3166-1' ] == 'US' ] . reset_index ( drop = True ) . copy ( )\n",
    "# MApredicted   =  predicted [ predicted [ 'iso-3166-2' ] == 'US-MA' ] . reset_index ( drop = True ) . copy ( )\n",
    "# MApredicted . to_file ( '/data/energy/global/nature_dataset/MApredicted.geojson' )\n",
    "\n",
    "print ( \n",
    "    \"Predicted PV installs {predicted} with {USpredicted} in the US\"  . format ( \n",
    "        predicted   =  len(predicted) , \n",
    "        USpredicted =  len(USpredicted)\n",
    "    )\n",
    ")\n",
    "\n",
    "## get US state boundaries from US Census \n",
    "states = gpd . read_file ( 'https://www2.census.gov/geo/tiger/GENZ2018/shp/cb_2018_us_state_5m.zip' ) . to_crs ( \"EPSG:4326\" ) \n",
    "\n",
    "fig, ax = plt . subplots ( ) \n",
    "\n",
    "ax1  =  USpredicted . geometry . boundary . plot ( color = 'blue' , ax = ax )\n",
    "ax2  =  states . geometry . boundary . plot ( color = 'lightgray' , linewidth = 1 , ax = ax )\n",
    "\n",
    "ax . set_axis_off ( )\n",
    "\n",
    "#plt . title ( 'US Commercial Solar Arrays\\n2018 Satellite Survey' , fontsize = 14 )\n",
    "plt . show ( )"
   ]
  },
  {
   "cell_type": "code",
   "execution_count": null,
   "id": "ee4968a7-cc6e-49b5-898b-e66bc72c08c5",
   "metadata": {},
   "outputs": [],
   "source": []
  }
 ],
 "metadata": {
  "kernelspec": {
   "display_name": "Python 3 (ipykernel)",
   "language": "python",
   "name": "python3"
  },
  "language_info": {
   "codemirror_mode": {
    "name": "ipython",
    "version": 3
   },
   "file_extension": ".py",
   "mimetype": "text/x-python",
   "name": "python",
   "nbconvert_exporter": "python",
   "pygments_lexer": "ipython3",
   "version": "3.8.10"
  }
 },
 "nbformat": 4,
 "nbformat_minor": 5
}
