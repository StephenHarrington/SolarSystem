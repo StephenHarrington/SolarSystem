{
 "cells": [
  {
   "cell_type": "code",
   "execution_count": 38,
   "id": "4856ac1b-b239-4d13-b55b-890254a5c163",
   "metadata": {},
   "outputs": [
    {
     "data": {
      "application/vnd.jupyter.widget-view+json": {
       "model_id": "8f82fa0db87342aba9b77dde2a4668ed",
       "version_major": 2,
       "version_minor": 0
      },
      "text/plain": [
       "Canvas(toolbar=Toolbar(toolitems=[('Home', 'Reset original view', 'home', 'home'), ('Back', 'Back to previous …"
      ]
     },
     "metadata": {},
     "output_type": "display_data"
    }
   ],
   "source": [
    "STREET_NAME = 'PARK AVE EXT'\n",
    "STREET_NUM = '99'\n",
    "\n",
    "%matplotlib widget\n",
    "import  pandas            as pd\n",
    "import  geopandas         as gpd\n",
    "import  rasterio          as rs\n",
    "import  rasterio.plot     as rsp\n",
    "import  matplotlib.pyplot as plt\n",
    "\n",
    "\n",
    "def unpack(df, column, fillna=None):\n",
    "    ret = None\n",
    "    if fillna is None:\n",
    "        ret = pd.concat([df, pd.DataFrame((d for idx, d in df[column].iteritems()))], axis=1)\n",
    "        del ret[column]\n",
    "    else:\n",
    "        ret = pd.concat([df, pd.DataFrame((d for idx, d in df[column].iteritems())).fillna(fillna)], axis=1)\n",
    "        del ret[column]\n",
    "    return ret\n",
    "\n",
    "## Download 209Mb zip file and store locally for repeated access\n",
    "## https://documents.arlingtonma.s3.amazonaws.com/GIS_Data/ForDownload/ArlingtonMA_Ortho_2018_80r.zip?\n",
    "\n",
    "data_dir   =  '/data/code/web/truepersons/data/public/US/MA/Arlington/'\n",
    "arlington  =  rs . open ( data_dir + \"Arlington_2018_80r.jp2\" ) \n",
    "\n",
    "github_raw_url = 'https://gist.githubusercontent.com/StephenHarrington/c364e9125b87c703ae8307f9fe87795f/raw/'+\\\n",
    "                                                '51f76edd405b92ea2b3d173a40cb6f2b0fd8c5ea/ArlingtonMA.geojson'\n",
    "df    =  gpd . read_file ( github_raw_url ) . to_crs ( arlington . crs ) \n",
    "df    =  unpack ( df , 'location' )\n",
    "mask  =  ( df . street_number == STREET_NUM ) & ( df . street_name == STREET_NAME )\n",
    "\n",
    "left , bottom , right , top = tuple ( map ( tuple , df [ mask ] . bounds . values ) ) [ 0 ]\n",
    "\n",
    "fig , ( ax1 , ax2 )  =  plt . subplots ( 1 , 2 , figsize = ( 12 , 6 ) )\n",
    "\n",
    "src  =  arlington . read ( window = rs . windows . from_bounds ( left , bottom , right , top ,  arlington . transform ) )\n",
    "foo = rsp . show ( src , transform = arlington . transform , ax = ax1 )\n",
    "\n",
    "\n",
    "rsp . show_hist ( src , bins = 50 , histtype = 'stepfilled' , lw = 0.0 , stacked = False , alpha = 0.3 , ax = ax2 )\n",
    "\n",
    "plt.show()\n"
   ]
  },
  {
   "cell_type": "code",
   "execution_count": 50,
   "id": "9123f17d-fd90-4ada-ac32-d1d9b5be81fe",
   "metadata": {},
   "outputs": [
    {
     "data": {
      "text/plain": [
       "stroke-width                                                    2\n",
       "fill-opacity                                                  0.5\n",
       "fill                                                      #ffff00\n",
       "tokenId                                       7345990835614514000\n",
       "image           https://www.google.com/maps/@?api=1&map_action...\n",
       "name                                                57 HIBBERT ST\n",
       "description     A photovoltaic system was installed at 57 HIBB...\n",
       "financials      {'contractor': ''CSG Services'', 'permits': '6...\n",
       "dates                     {'effective_date_permit': '2003-08-06'}\n",
       "location        {'coord': '(42.4237684, -71.1934237)', 'street...\n",
       "ohm             {'parcel_size': 0.08, 'style': 'Colonial', 'ye...\n",
       "governance      {'parcel': '176.0-0001-0009.0', 'land_use_code...\n",
       "geometry2       POLYGON ((-71.1933435 42.4237918, -71.1933652 ...\n",
       "attributes                                                   None\n",
       "entity                                                       None\n",
       "amps                                                         None\n",
       "watts                                                        None\n",
       "joules                                                       None\n",
       "xref                                                         None\n",
       "geometry        POLYGON ((738964.0522526648 2979609.462357078,...\n",
       "Name: 0, dtype: object"
      ]
     },
     "execution_count": 50,
     "metadata": {},
     "output_type": "execute_result"
    }
   ],
   "source": [
    "type(foo)\n",
    "df.iloc[0]"
   ]
  },
  {
   "cell_type": "code",
   "execution_count": 40,
   "id": "0510b811-152f-4d56-ab0f-e1f91db3ea60",
   "metadata": {},
   "outputs": [],
   "source": [
    "fig.savefig(\"/data/myplot.png\")"
   ]
  },
  {
   "cell_type": "code",
   "execution_count": null,
   "id": "0d2e4072-9fda-401b-ab58-3325f7dccd4e",
   "metadata": {
    "tags": []
   },
   "outputs": [
    {
     "data": {
      "application/vnd.jupyter.widget-view+json": {
       "model_id": "28631a805dc3470cacc507da3bef91e6",
       "version_major": 2,
       "version_minor": 0
      },
      "text/plain": [
       "Canvas(toolbar=Toolbar(toolitems=[('Home', 'Reset original view', 'home', 'home'), ('Back', 'Back to previous …"
      ]
     },
     "metadata": {},
     "output_type": "display_data"
    }
   ],
   "source": [
    "%matplotlib widget\n",
    "import  json\n",
    "import  pandas            as pd\n",
    "import  geopandas         as gpd\n",
    "import  rasterio          as rs\n",
    "import  rasterio.plot     as rsp\n",
    "import  matplotlib.pyplot as plt\n",
    "\n",
    "fig , ax1  =  plt . subplots ( 1 , 1 , figsize = ( 12 , 6 ) )\n",
    "\n",
    "## Download 209Mb zip file and store locally for repeated access\n",
    "## https://documents.arlingtonma.s3.amazonaws.com/GIS_Data/ForDownload/ArlingtonMA_Ortho_2018_80r.zip?\n",
    "\n",
    "data_dir      =   '/data/code/web/truepersons/data/public/US/MA/Arlington/'\n",
    "solar_dir     =   '/data/code/web/truepersons/nft/solar/'\n",
    "arlington     =   rs . open ( data_dir + \"Arlington_2018_80r.jp2\" ) \n",
    "\n",
    "df    =  gpd . read_file ( '/data/energy/REC/MA/Arlington/solar_systems.geojson' ) . to_crs ( arlington . crs ) \n",
    "df . insert ( loc = 4 , column =  'map' , value = df . image )\n",
    "df [ 'image' ]    =  solar_dir + 'img/' + df . tokenId + \".png\"\n",
    "\n",
    "cols  =  df.columns\n",
    "\n",
    "for idx in range ( len ( df ) ) :\n",
    "    \n",
    "    tokenId = df . iloc [ idx ] . tokenId\n",
    "    left , bottom , right , top = df .iloc [ idx ] . geometry . bounds \n",
    "    \n",
    "    with open ( solar_dir + 'metadata/' + tokenId + '.json' , \"w\" ) as outfile:\n",
    "        outfile . write ( df [ cols [ : -1 ] ] . iloc [ idx ] . to_json ( ) )\n",
    "\n",
    "    src  =  arlington . read ( window = rs . windows . from_bounds ( left , bottom , right , top ,  arlington . transform ) )\n",
    "    rsp . show ( src , transform = arlington . transform , ax = ax1 )\n",
    "    fig . savefig ( df . iloc [ idx ] . image )\n",
    "\n",
    "    #plt.show()\n"
   ]
  },
  {
   "cell_type": "code",
   "execution_count": 67,
   "id": "e8402b9c-44a4-4740-aa6f-0711e62f0239",
   "metadata": {},
   "outputs": [
    {
     "data": {
      "text/plain": [
       "tokenId                                      7345996461349260373\n",
       "image          /data/code/web/truepersons/nft/solar/img/73459...\n",
       "name                                                  1 CROSS ST\n",
       "description    A 2.61kW photovoltaic system was installed at ...\n",
       "map            https://www.google.com/maps/@?api=1&map_action...\n",
       "attributes     {'expansion_system': 0, 'multiple_phase_system...\n",
       "entity         {'applicant': 'Knollwood Energy, LLC', 'instal...\n",
       "financials     {'applicant': 'Knollwood Energy, LLC', 'progra...\n",
       "dates          {'effective_date': '2017-05-30', 'effective_da...\n",
       "location       {'coord': '(42.4044766, -71.1351093)', 'street...\n",
       "amps           {'utility': 'NSTAR (DBA EverSource)', 'utility...\n",
       "watts          {'kW': 2.61, 'system_size_DC': 2.61, 'est_annu...\n",
       "joules                                                        {}\n",
       "ohm            {'parcel_size': 0.1, 'style': 'Old Style', 'ye...\n",
       "xref           {'pts_index': 314, 'rps_index': 929, 'bnl_inde...\n",
       "governance     {'parcel': '024.0-0003-0004.0', 'land_use_code...\n",
       "geometry2      POLYGON ((-71.1350442 42.4044806, -71.1350777 ...\n",
       "Name: 1, dtype: object"
      ]
     },
     "execution_count": 67,
     "metadata": {},
     "output_type": "execute_result"
    }
   ],
   "source": [
    "df . iloc [ idx ] . image\n",
    "df[cols[0:-1]].iloc[idx]#.to_json()"
   ]
  },
  {
   "cell_type": "code",
   "execution_count": 64,
   "id": "1143cefc-8f77-41bb-a50a-dc7a1e33570f",
   "metadata": {},
   "outputs": [
    {
     "name": "stdout",
     "output_type": "stream",
     "text": [
      "Help on function open in module fiona:\n",
      "\n",
      "open(fp, mode='r', driver=None, schema=None, crs=None, encoding=None, layer=None, vfs=None, enabled_drivers=None, crs_wkt=None, **kwargs)\n",
      "    Open a collection for read, append, or write\n",
      "    \n",
      "    In write mode, a driver name such as \"ESRI Shapefile\" or \"GPX\" (see\n",
      "    OGR docs or ``ogr2ogr --help`` on the command line) and a schema\n",
      "    mapping such as:\n",
      "    \n",
      "      {'geometry': 'Point',\n",
      "       'properties': [('class', 'int'), ('label', 'str'),\n",
      "                      ('value', 'float')]}\n",
      "    \n",
      "    must be provided. If a particular ordering of properties (\"fields\"\n",
      "    in GIS parlance) in the written file is desired, a list of (key,\n",
      "    value) pairs as above or an ordered dict is required. If no ordering\n",
      "    is needed, a standard dict will suffice.\n",
      "    \n",
      "    A coordinate reference system for collections in write mode can be\n",
      "    defined by the ``crs`` parameter. It takes Proj4 style mappings like\n",
      "    \n",
      "      {'proj': 'longlat', 'ellps': 'WGS84', 'datum': 'WGS84',\n",
      "       'no_defs': True}\n",
      "    \n",
      "    short hand strings like\n",
      "    \n",
      "      EPSG:4326\n",
      "    \n",
      "    or WKT representations of coordinate reference systems.\n",
      "    \n",
      "    The drivers used by Fiona will try to detect the encoding of data\n",
      "    files. If they fail, you may provide the proper ``encoding``, such\n",
      "    as 'Windows-1252' for the Natural Earth datasets.\n",
      "    \n",
      "    When the provided path is to a file containing multiple named layers\n",
      "    of data, a layer can be singled out by ``layer``.\n",
      "    \n",
      "    The drivers enabled for opening datasets may be restricted to those\n",
      "    listed in the ``enabled_drivers`` parameter. This and the ``driver``\n",
      "    parameter afford much control over opening of files.\n",
      "    \n",
      "      # Trying only the GeoJSON driver when opening to read, the\n",
      "      # following raises ``DataIOError``:\n",
      "      fiona.open('example.shp', driver='GeoJSON')\n",
      "    \n",
      "      # Trying first the GeoJSON driver, then the Shapefile driver,\n",
      "      # the following succeeds:\n",
      "      fiona.open(\n",
      "          'example.shp', enabled_drivers=['GeoJSON', 'ESRI Shapefile'])\n",
      "    \n",
      "    Parameters\n",
      "    ----------\n",
      "    fp : URI (str or pathlib.Path), or file-like object\n",
      "        A dataset resource identifier or file object.\n",
      "    mode : str\n",
      "        One of 'r', to read (the default); 'a', to append; or 'w', to\n",
      "        write.\n",
      "    driver : str\n",
      "        In 'w' mode a format driver name is required. In 'r' or 'a'\n",
      "        mode this parameter has no effect.\n",
      "    schema : dict\n",
      "        Required in 'w' mode, has no effect in 'r' or 'a' mode.\n",
      "    crs : str or dict\n",
      "        Required in 'w' mode, has no effect in 'r' or 'a' mode.\n",
      "    encoding : str\n",
      "        Name of the encoding used to encode or decode the dataset.\n",
      "    layer : int or str\n",
      "        The integer index or name of a layer in a multi-layer dataset.\n",
      "    vfs : str\n",
      "        This is a deprecated parameter. A URI scheme such as \"zip://\"\n",
      "        should be used instead.\n",
      "    enabled_drivers : list\n",
      "        An optional list of driver names to used when opening a\n",
      "        collection.\n",
      "    crs_wkt : str\n",
      "        An optional WKT representation of a coordinate reference\n",
      "        system.\n",
      "    kwargs : mapping\n",
      "        Other driver-specific parameters that will be interpreted by\n",
      "        the OGR library as layer creation or opening options.\n",
      "    \n",
      "    Returns\n",
      "    -------\n",
      "    Collection\n",
      "\n"
     ]
    }
   ],
   "source": [
    "import fiona; help(fiona.open)"
   ]
  },
  {
   "cell_type": "code",
   "execution_count": null,
   "id": "db637af8-66a5-4dcb-839b-704f476f81d1",
   "metadata": {},
   "outputs": [],
   "source": []
  }
 ],
 "metadata": {
  "kernelspec": {
   "display_name": "Python 3 (ipykernel)",
   "language": "python",
   "name": "python3"
  },
  "language_info": {
   "codemirror_mode": {
    "name": "ipython",
    "version": 3
   },
   "file_extension": ".py",
   "mimetype": "text/x-python",
   "name": "python",
   "nbconvert_exporter": "python",
   "pygments_lexer": "ipython3",
   "version": "3.8.10"
  }
 },
 "nbformat": 4,
 "nbformat_minor": 5
}
