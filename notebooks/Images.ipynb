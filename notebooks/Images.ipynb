{
 "cells": [
  {
   "cell_type": "code",
   "execution_count": null,
   "id": "2325d7d1-66fb-4e9a-a38a-0bd168697f84",
   "metadata": {},
   "outputs": [],
   "source": [
    "## data standard python packages\n",
    "import pandas as pd\n",
    "import numpy  as np\n",
    "\n",
    "import matplotlib.pyplot as plt\n",
    "import matplotlib.ticker as mtick  ##format charts for dollars ($) \n",
    "\n",
    "import os\n",
    "from datetime import datetime, timedelta\n",
    "import locale  ##format currency for display\n",
    "\n",
    "locale . setlocale ( locale.LC_ALL , 'en_US.UTF-8' )\n",
    "\n",
    "import geojson\n",
    "import geopandas as gpd\n",
    "gpd.options.use_pygeos = False\n",
    "\n",
    "from urllib.request  import urlopen\n",
    "from io              import BytesIO\n",
    "from zipfile         import ZipFile\n",
    "\n",
    "import geohash"
   ]
  },
  {
   "cell_type": "code",
   "execution_count": null,
   "id": "6268f58c-fa8a-47ee-a3a8-cd31306c177f",
   "metadata": {},
   "outputs": [],
   "source": []
  },
  {
   "cell_type": "code",
   "execution_count": null,
   "id": "becabfe0-589a-4f7d-abaf-98b4b0286853",
   "metadata": {},
   "outputs": [],
   "source": [
    "import geopandas\n",
    "import contextily as cx\n",
    "import rasterio\n",
    "data_dir = '/data/code/web/truepersons/data/public/US/MA/'\n",
    "jp2s = [\"18TXM795560.jp2\"]\n",
    "\n",
    "arrs = []\n",
    "\n",
    "for jp2 in jp2s:\n",
    "    with rasterio.open(data_dir+jp2) as f:\n",
    "        arrs.append(f.read(1))\n",
    "\n",
    "data = np.array(arrs, dtype=arrs[0].dtype)\n",
    "data"
   ]
  },
  {
   "cell_type": "code",
   "execution_count": null,
   "id": "278492e9-a6ef-4f51-97f7-38b21ae1ce65",
   "metadata": {},
   "outputs": [],
   "source": [
    "from rasterio.plot import show\n",
    "\n",
    "fig, ax = plt.subplots()\n",
    "\n",
    "# transform rasterio plot to real world coords\n",
    "data_dir = '/data/code/web/truepersons/data/public/US/MA/'\n",
    "jp2s = [\"18TXM795560.jp2\"]\n",
    "\n",
    "arrs = []\n",
    "\n",
    "for jp2 in jp2s:\n",
    "    with rasterio.open(data_dir+jp2) as f:\n",
    "        arrs.append(f.read(1))\n",
    "\n",
    "        extent=[f.bounds[0], f.bounds[2], f.bounds[1], f.bounds[3]]\n",
    "        ax = rasterio.plot.show(f, extent=extent, ax=ax, cmap='pink')\n",
    "\n",
    "df[df.street_name=='ADAMS ST'].plot(ax=ax)"
   ]
  },
  {
   "cell_type": "code",
   "execution_count": null,
   "id": "1ce01646-d25d-42f7-b1fc-b061dd998357",
   "metadata": {},
   "outputs": [],
   "source": [
    "df[df.street_name=='ADAMS ST'].plot(ax=ax)"
   ]
  },
  {
   "cell_type": "code",
   "execution_count": null,
   "id": "fbe52f7c-9c9c-4eb3-86a4-142cd57513fb",
   "metadata": {},
   "outputs": [],
   "source": [
    "images = '/data/energy/REC/COQ/COQ2019INDEX_POLY.shp'\n",
    "images = gpd.read_file(images).to_crs(\"EPSG:4326\")\n",
    "images\n",
    "url = images.URL[0]"
   ]
  },
  {
   "cell_type": "code",
   "execution_count": null,
   "id": "5dac556c-bbe9-415b-8254-9615bdc10423",
   "metadata": {},
   "outputs": [],
   "source": [
    "images"
   ]
  },
  {
   "cell_type": "code",
   "execution_count": null,
   "id": "e7a44158-68d8-48a1-ab5e-d22ae6711a2e",
   "metadata": {},
   "outputs": [],
   "source": [
    "y =  42.43457134711964\n",
    "x = -71.16528510012976\n",
    "y=42.42831073676301\n",
    "x=-71.15809314864751\n",
    "\n",
    "df = pd.DataFrame(\n",
    "    {'Town': ['Arlington'],\n",
    "     'Latitude': [y],\n",
    "     'Longitude': [x]})\n",
    "\n",
    "gdf = geopandas.GeoDataFrame(\n",
    "    df, geometry=geopandas.points_from_xy(df.Longitude, df.Latitude))\n",
    "\n",
    "#point = geopandas.points_from_xy(x, y, crs=\"EPSG:4326\")\n",
    "\n",
    "# gpd.Point((42.43457134711964, -71.16528510012976))\n",
    "images.crs\n",
    "gdf\n",
    "\n",
    "for idx in range(len(images)):\n",
    "    if gdf . within ( images . loc [ idx , 'geometry' ] ) . any ( ) :\n",
    "        found = images.iloc[idx]\n",
    "        print(idx,images.iloc[idx])"
   ]
  },
  {
   "cell_type": "code",
   "execution_count": null,
   "id": "428c1d1a-b79f-4d6f-a68d-4bb3c61e7c31",
   "metadata": {},
   "outputs": [],
   "source": [
    "url = found.URL"
   ]
  },
  {
   "cell_type": "code",
   "execution_count": null,
   "id": "764822df-da7f-4fe5-ad5e-5b858c06588f",
   "metadata": {
    "tags": []
   },
   "outputs": [],
   "source": [
    "with urlopen ( url ) as f :\n",
    "\n",
    "    with BytesIO ( f . read ( ) ) as b , ZipFile ( b ) as myzipfile :\n",
    "\n",
    "        for name in myzipfile . namelist ( ) :\n",
    "            \n",
    "            if 'jp2' in name[-3:]:\n",
    "                print(name)\n",
    "                \n",
    "                with myzipfile . open ( name ) as ff, rasterio.open( BytesIO(ff.read()) ) as r:\n",
    "\n",
    "#                     with rasterio.open( BytesIO(ff.read()) ) as r:\n",
    "                    extent =  [r.bounds[0], r.bounds[2], r.bounds[1], r.bounds[3]]\n",
    "                    band   =  r.read()\n",
    "                    crs    =  r.crs\n",
    "                    rname  =  r.name\n",
    "#                     with rasterio.open( BytesIO(ff.read()) ) as r:\n",
    "#                         extent=[r.bounds[0], r.bounds[2], r.bounds[1], r.bounds[3]]\n",
    "#                         band = r.read()\n",
    "#                         crs = r.crs\n",
    "                                       \n",
    "\n"
   ]
  },
  {
   "cell_type": "code",
   "execution_count": null,
   "id": "28b3f822-8958-4bb3-9c8e-3b388594e9c0",
   "metadata": {},
   "outputs": [],
   "source": [
    "rname"
   ]
  },
  {
   "cell_type": "code",
   "execution_count": null,
   "id": "572f383a-84a3-428c-a83c-e097fdb0710f",
   "metadata": {},
   "outputs": [],
   "source": [
    "crs"
   ]
  },
  {
   "cell_type": "code",
   "execution_count": null,
   "id": "c09e07fe-08b4-40a3-99a6-285cb3f09987",
   "metadata": {},
   "outputs": [],
   "source": [
    "fig, ax = plt.subplots()\n",
    "\n",
    "df = geopandas.read_file('/data/energy/REC/test.geojson').to_crs('EPSG:6348')\n",
    "\n",
    "#extent=[band.bounds[0], band.bounds[2], band.bounds[1], band.bounds[3]]\n",
    "ax = rasterio.plot.show(band, extent=extent,ax=ax)\n",
    "\n",
    "#df.plot(ax=ax)"
   ]
  },
  {
   "cell_type": "code",
   "execution_count": null,
   "id": "fe582d37-47d1-4962-9c07-2b7995dcc4e8",
   "metadata": {
    "tags": []
   },
   "outputs": [],
   "source": [
    "df.plot(ax=ax)"
   ]
  },
  {
   "cell_type": "code",
   "execution_count": null,
   "id": "90e6f9b3-5df8-4959-be25-a73e5c76bb84",
   "metadata": {},
   "outputs": [],
   "source": [
    "band[0][0]"
   ]
  },
  {
   "cell_type": "code",
   "execution_count": null,
   "id": "8b6aab98-0ade-419c-b613-015ea703339c",
   "metadata": {
    "tags": []
   },
   "outputs": [],
   "source": [
    "geopandas.datasets.available"
   ]
  },
  {
   "cell_type": "code",
   "execution_count": null,
   "id": "7dc4c479-dc21-4a99-855e-5f969d532c9e",
   "metadata": {},
   "outputs": [],
   "source": [
    "df[df.street_name=='ADAMS ST']"
   ]
  },
  {
   "cell_type": "code",
   "execution_count": null,
   "id": "2c27f1ba-de7f-4444-9d95-2eff16a0d696",
   "metadata": {},
   "outputs": [],
   "source": [
    "import geopandas\n",
    "import contextily as cx\n",
    "import rasterio\n",
    "\n",
    "df = geopandas.read_file(geopandas.datasets.get_path('nybb'))\n",
    "df = geopandas.read_file('/data/energy/REC/test.geojson')\n",
    "df = df[df.street_name=='ADAMS ST']\n",
    "ax = df.plot(figsize=(10, 10), alpha=0.5, edgecolor='k')"
   ]
  },
  {
   "cell_type": "code",
   "execution_count": null,
   "id": "dbbbae2d-2d5e-4d47-a7bb-a4d029edb22f",
   "metadata": {},
   "outputs": [],
   "source": [
    "df.crs\n",
    "df_wm = df.to_crs(epsg=3857)"
   ]
  },
  {
   "cell_type": "code",
   "execution_count": null,
   "id": "68571ea0-4fac-4521-8f65-175d71388f58",
   "metadata": {},
   "outputs": [],
   "source": [
    "%matplotlib widget\n",
    "ax = df_wm.plot(figsize=(10, 10), alpha=0.5, edgecolor='k')\n",
    "#cx.add_basemap(ax, zoom=12)\n",
    "cx.add_basemap(ax, source=cx.providers.USGS.USImagery, zoom=15)"
   ]
  },
  {
   "cell_type": "code",
   "execution_count": null,
   "id": "6019a8b9-27ac-4d77-b0e5-c24a1f224cc4",
   "metadata": {},
   "outputs": [],
   "source": [
    "import rasterio\n",
    "from rasterio.plot import show as rioshow\n",
    "\n",
    "data_dir = '/data/code/web/truepersons/data/public/US/MA/Arlington/'\n",
    "with rasterio.open(data_dir+\"Arlington_2018_80r.jp2\") as r:\n",
    "    rioshow(r)\n"
   ]
  },
  {
   "cell_type": "code",
   "execution_count": 2,
   "id": "bbffa8c3-9f14-4f19-a501-2aeee210fe71",
   "metadata": {},
   "outputs": [],
   "source": [
    "import rasterio\n",
    "data_dir = '/data/code/web/truepersons/data/public/US/MA/Arlington/'\n",
    "\n",
    "r = rasterio.open(data_dir+\"Arlington_2018_80r.jp2\")"
   ]
  },
  {
   "cell_type": "code",
   "execution_count": 6,
   "id": "d4e83d70-23da-4b00-a9dd-c6b7b5236499",
   "metadata": {},
   "outputs": [],
   "source": [
    "foo = r.read()"
   ]
  },
  {
   "cell_type": "code",
   "execution_count": 43,
   "id": "da08c7d9-7526-4b8c-8d9c-b156f5faeae7",
   "metadata": {},
   "outputs": [
    {
     "data": {
      "application/vnd.jupyter.widget-view+json": {
       "model_id": "d3533e4898ac4e63a372fc0a8ceba341",
       "version_major": 2,
       "version_minor": 0
      },
      "text/plain": [
       "Canvas(toolbar=Toolbar(toolitems=[('Home', 'Reset original view', 'home', 'home'), ('Back', 'Back to previous …"
      ]
     },
     "metadata": {},
     "output_type": "display_data"
    }
   ],
   "source": [
    "import rasterio\n",
    "from rasterio.windows import from_bounds\n",
    "import matplotlib.pyplot as plt\n",
    "\n",
    "# Get the left, bottom, right, top vars from your shapefile\n",
    "# assumes same CRS as your raster\n",
    "left = 751838\n",
    "bottom=2975286\n",
    "right=751898\n",
    "top=2975340\n",
    "with rasterio.open(data_dir+\"Arlington_2018_80r.jp2\") as src:\n",
    "    img = src.read(3,window=from_bounds(left, bottom, right, top, src.transform))\n",
    "    \n",
    "ax = plt.subplots(figsize=(10, 10))\n",
    "plt.imshow(img)\n",
    "plt.show()\n"
   ]
  },
  {
   "cell_type": "code",
   "execution_count": 36,
   "id": "bb5deec1-8108-4673-8087-2232b53a10a2",
   "metadata": {},
   "outputs": [
    {
     "data": {
      "text/plain": [
       "numpy.ndarray"
      ]
     },
     "execution_count": 36,
     "metadata": {},
     "output_type": "execute_result"
    }
   ],
   "source": [
    "r.crs\n",
    "type(img)"
   ]
  },
  {
   "cell_type": "code",
   "execution_count": null,
   "id": "06e2f6aa-21b6-406b-98de-89b171e8fd00",
   "metadata": {},
   "outputs": [],
   "source": [
    "Point(42.428996501703956, -71.15812894864168)"
   ]
  },
  {
   "cell_type": "code",
   "execution_count": null,
   "id": "c1a5cca8-be3b-4a35-9457-4c36fb80c3d0",
   "metadata": {},
   "outputs": [],
   "source": [
    "df = gpd.read_file(images.URL[0])"
   ]
  },
  {
   "cell_type": "code",
   "execution_count": 33,
   "id": "8c590109-eb9b-4403-b449-f9d69455a828",
   "metadata": {},
   "outputs": [
    {
     "data": {
      "application/vnd.jupyter.widget-view+json": {
       "model_id": "6ec56962a5074552bbba3671e9bf225a",
       "version_major": 2,
       "version_minor": 0
      },
      "text/plain": [
       "Canvas(toolbar=Toolbar(toolitems=[('Home', 'Reset original view', 'home', 'home'), ('Back', 'Back to previous …"
      ]
     },
     "metadata": {},
     "output_type": "display_data"
    }
   ],
   "source": [
    "%matplotlib widget\n",
    "import geopandas\n",
    "import contextily as cx\n",
    "df = geopandas.read_file('/data/energy/REC/test.geojson'). to_crs(r.crs) \n",
    "df = df[df.street_name=='ADAMS ST']\n",
    "ax = df.plot(figsize=(10, 10), alpha=0.5, edgecolor='k')"
   ]
  },
  {
   "cell_type": "code",
   "execution_count": 28,
   "id": "3ae9d495-537d-4040-ba9d-bb35202dac52",
   "metadata": {},
   "outputs": [
    {
     "data": {
      "text/plain": [
       "<Geographic 2D CRS: EPSG:4326>\n",
       "Name: WGS 84\n",
       "Axis Info [ellipsoidal]:\n",
       "- Lat[north]: Geodetic latitude (degree)\n",
       "- Lon[east]: Geodetic longitude (degree)\n",
       "Area of Use:\n",
       "- name: World.\n",
       "- bounds: (-180.0, -90.0, 180.0, 90.0)\n",
       "Datum: World Geodetic System 1984 ensemble\n",
       "- Ellipsoid: WGS 84\n",
       "- Prime Meridian: Greenwich"
      ]
     },
     "execution_count": 28,
     "metadata": {},
     "output_type": "execute_result"
    }
   ],
   "source": [
    "df.crs"
   ]
  },
  {
   "cell_type": "code",
   "execution_count": 31,
   "id": "864ba171-5ff0-4992-ac7e-68aafdcec4b4",
   "metadata": {},
   "outputs": [
    {
     "data": {
      "text/plain": [
       "BoundingBox(left=735333.0, bottom=2968669.0, right=757333.0, top=2986669.0)"
      ]
     },
     "execution_count": 31,
     "metadata": {},
     "output_type": "execute_result"
    }
   ],
   "source": [
    "r.bounds"
   ]
  },
  {
   "cell_type": "code",
   "execution_count": 46,
   "id": "93d13dbc-67f2-451a-9348-05f22d5c4f7b",
   "metadata": {},
   "outputs": [],
   "source": [
    "arlington = rasterio.open(data_dir+\"Arlington_2018_80r.jp2\") "
   ]
  },
  {
   "cell_type": "code",
   "execution_count": 51,
   "id": "6cab1ed0-4eb2-4516-90e1-285918b5a74b",
   "metadata": {},
   "outputs": [
    {
     "data": {
      "text/plain": [
       "72000"
      ]
     },
     "execution_count": 51,
     "metadata": {},
     "output_type": "execute_result"
    }
   ],
   "source": [
    "arlington.height"
   ]
  },
  {
   "cell_type": "code",
   "execution_count": 52,
   "id": "f5d0c54c-64aa-41b4-9950-ee3a0e9648e7",
   "metadata": {},
   "outputs": [
    {
     "data": {
      "text/plain": [
       "{1: 'uint8', 2: 'uint8', 3: 'uint8'}"
      ]
     },
     "execution_count": 52,
     "metadata": {},
     "output_type": "execute_result"
    }
   ],
   "source": [
    "{i: dtype for i, dtype in zip(arlington.indexes, arlington.dtypes)}"
   ]
  },
  {
   "cell_type": "code",
   "execution_count": 53,
   "id": "15fc7b48-ae8d-4496-92e9-810f423909c3",
   "metadata": {},
   "outputs": [
    {
     "data": {
      "text/plain": [
       "BoundingBox(left=735333.0, bottom=2968669.0, right=757333.0, top=2986669.0)"
      ]
     },
     "execution_count": 53,
     "metadata": {},
     "output_type": "execute_result"
    }
   ],
   "source": [
    "arlington.bounds"
   ]
  },
  {
   "cell_type": "code",
   "execution_count": 54,
   "id": "a7072335-82a1-4aad-883d-7b7294e7d6b7",
   "metadata": {},
   "outputs": [
    {
     "data": {
      "text/plain": [
       "CRS.from_wkt('PROJCS[\"NAD_1983_StatePlane_Massachusetts_Mainland_FIPS_2001_Feet\",GEOGCS[\"NAD83\",DATUM[\"North_American_Datum_1983\",SPHEROID[\"GRS 1980\",6378137,298.257222101004,AUTHORITY[\"EPSG\",\"7019\"]],AUTHORITY[\"EPSG\",\"6269\"]],PRIMEM[\"Greenwich\",0],UNIT[\"degree\",0.0174532925199433,AUTHORITY[\"EPSG\",\"9122\"]],AUTHORITY[\"EPSG\",\"4269\"]],PROJECTION[\"Lambert_Conformal_Conic_2SP\"],PARAMETER[\"latitude_of_origin\",41],PARAMETER[\"central_meridian\",-71.5],PARAMETER[\"standard_parallel_1\",41.7166666666667],PARAMETER[\"standard_parallel_2\",42.6833333333333],PARAMETER[\"false_easting\",656166.666666667],PARAMETER[\"false_northing\",2460625],UNIT[\"US survey foot\",0.304800609601219,AUTHORITY[\"EPSG\",\"9003\"]],AXIS[\"Easting\",EAST],AXIS[\"Northing\",NORTH]]')"
      ]
     },
     "execution_count": 54,
     "metadata": {},
     "output_type": "execute_result"
    }
   ],
   "source": [
    "arlington.crs"
   ]
  },
  {
   "cell_type": "code",
   "execution_count": 55,
   "id": "0420e923-ede0-4b36-b16f-89ad9f44ceb5",
   "metadata": {},
   "outputs": [
    {
     "data": {
      "text/plain": [
       "Affine(0.25, 0.0, 735333.0,\n",
       "       0.0, -0.25, 2986669.0)"
      ]
     },
     "execution_count": 55,
     "metadata": {},
     "output_type": "execute_result"
    }
   ],
   "source": [
    "arlington.transform"
   ]
  },
  {
   "cell_type": "code",
   "execution_count": 56,
   "id": "dddd40d4-ce99-4a6e-b4ef-fc35f033ea0e",
   "metadata": {},
   "outputs": [
    {
     "data": {
      "text/plain": [
       "(735333.0, 2986669.0)"
      ]
     },
     "execution_count": 56,
     "metadata": {},
     "output_type": "execute_result"
    }
   ],
   "source": [
    "arlington.transform * (0,0)"
   ]
  },
  {
   "cell_type": "code",
   "execution_count": 57,
   "id": "17dfc45a-4df5-4ee3-8dcd-1b525561cd7f",
   "metadata": {},
   "outputs": [
    {
     "data": {
      "text/plain": [
       "(757333.0, 2968669.0)"
      ]
     },
     "execution_count": 57,
     "metadata": {},
     "output_type": "execute_result"
    }
   ],
   "source": [
    "arlington.transform * (arlington.width, arlington.height)"
   ]
  },
  {
   "cell_type": "code",
   "execution_count": 96,
   "id": "c703c79f-a513-4dc1-a1c8-3f134dfb6e1f",
   "metadata": {},
   "outputs": [],
   "source": [
    "left, bottom, right, top = tuple(map(tuple,df.bounds.values))[0]"
   ]
  },
  {
   "cell_type": "code",
   "execution_count": 134,
   "id": "a084bb01-9ea4-4b5e-b02d-2d8b8a8afd8e",
   "metadata": {},
   "outputs": [
    {
     "data": {
      "application/vnd.jupyter.widget-view+json": {
       "model_id": "2a0ac225b37b4726bdc3879ec2a1c3bd",
       "version_major": 2,
       "version_minor": 0
      },
      "text/plain": [
       "Canvas(toolbar=Toolbar(toolitems=[('Home', 'Reset original view', 'home', 'home'), ('Back', 'Back to previous …"
      ]
     },
     "metadata": {},
     "output_type": "display_data"
    }
   ],
   "source": [
    "import rasterio as rs\n",
    "from rasterio.windows import from_bounds\n",
    "from rasterio.plot    import show\n",
    "from rasterio.plot    import show_hist\n",
    "import matplotlib.pyplot as plt\n",
    "\n",
    "\n",
    "arlington = rs.open(data_dir+\"Arlington_2018_80r.jp2\") \n",
    "\n",
    "df = geopandas.read_file('/data/energy/REC/test.geojson'). to_crs(arlington.crs) \n",
    "mask = df.tokenId=='7345996740955036734'#'7345996724575406165' (100,150,-50,-50) #'7345996844044390890' 200,-200\n",
    "left, bottom, right, top = tuple(map(tuple,df[mask].bounds.values))[0]\n",
    "\n",
    "fig, (ax1,ax2) = plt.subplots(1, 2, figsize=(14, 7))\n",
    "\n",
    "src = arlington.read(window=rs.windows.from_bounds(left, bottom, right+10, top, arlington.transform))\n",
    "rs.plot.show(src,transform=arlington.transform,ax=ax1)\n",
    "\n",
    "\n",
    "rs.plot.show_hist(src, bins=50, histtype='stepfilled',lw=0.0, stacked=False, alpha=0.3, ax=ax2)\n",
    "\n",
    "plt.show()\n"
   ]
  },
  {
   "cell_type": "code",
   "execution_count": 130,
   "id": "b34579a4-03e2-4613-8e08-02105c4ec6ff",
   "metadata": {},
   "outputs": [
    {
     "data": {
      "text/html": [
       "<div>\n",
       "<style scoped>\n",
       "    .dataframe tbody tr th:only-of-type {\n",
       "        vertical-align: middle;\n",
       "    }\n",
       "\n",
       "    .dataframe tbody tr th {\n",
       "        vertical-align: top;\n",
       "    }\n",
       "\n",
       "    .dataframe thead th {\n",
       "        text-align: right;\n",
       "    }\n",
       "</style>\n",
       "<table border=\"1\" class=\"dataframe\">\n",
       "  <thead>\n",
       "    <tr style=\"text-align: right;\">\n",
       "      <th></th>\n",
       "      <th>tokenId</th>\n",
       "      <th>street_number</th>\n",
       "      <th>street_name</th>\n",
       "      <th>permit_owner</th>\n",
       "    </tr>\n",
       "  </thead>\n",
       "  <tbody>\n",
       "    <tr>\n",
       "      <th>300</th>\n",
       "      <td>7345996844044390890</td>\n",
       "      <td>180</td>\n",
       "      <td>MOUNTAIN AVE</td>\n",
       "      <td>Town Of Arlington School</td>\n",
       "    </tr>\n",
       "    <tr>\n",
       "      <th>303</th>\n",
       "      <td>7345996639463757220</td>\n",
       "      <td>185</td>\n",
       "      <td>FLORENCE AVE</td>\n",
       "      <td>Town Of Arlington School</td>\n",
       "    </tr>\n",
       "    <tr>\n",
       "      <th>305</th>\n",
       "      <td>7345997180351765186</td>\n",
       "      <td>187</td>\n",
       "      <td>EVERETT ST</td>\n",
       "      <td>Town of Arlington</td>\n",
       "    </tr>\n",
       "    <tr>\n",
       "      <th>894</th>\n",
       "      <td>7345996724575406165</td>\n",
       "      <td>63</td>\n",
       "      <td>ACTON ST</td>\n",
       "      <td>Town Of Arlington School</td>\n",
       "    </tr>\n",
       "    <tr>\n",
       "      <th>1030</th>\n",
       "      <td>7345996829785462507</td>\n",
       "      <td>855</td>\n",
       "      <td>MASS AVE</td>\n",
       "      <td>Town of Arlington</td>\n",
       "    </tr>\n",
       "    <tr>\n",
       "      <th>1094</th>\n",
       "      <td>7345996740955036734</td>\n",
       "      <td>99</td>\n",
       "      <td>PARK AVE EXT</td>\n",
       "      <td>Town of Arlington</td>\n",
       "    </tr>\n",
       "  </tbody>\n",
       "</table>\n",
       "</div>"
      ],
      "text/plain": [
       "                  tokenId street_number   street_name  \\\n",
       "300   7345996844044390890           180  MOUNTAIN AVE   \n",
       "303   7345996639463757220           185  FLORENCE AVE   \n",
       "305   7345997180351765186           187    EVERETT ST   \n",
       "894   7345996724575406165            63      ACTON ST   \n",
       "1030  7345996829785462507           855      MASS AVE   \n",
       "1094  7345996740955036734            99  PARK AVE EXT   \n",
       "\n",
       "                  permit_owner  \n",
       "300   Town Of Arlington School  \n",
       "303   Town Of Arlington School  \n",
       "305          Town of Arlington  \n",
       "894   Town Of Arlington School  \n",
       "1030         Town of Arlington  \n",
       "1094         Town of Arlington  "
      ]
     },
     "execution_count": 130,
     "metadata": {},
     "output_type": "execute_result"
    }
   ],
   "source": [
    "mask = df.permit_owner.str.contains('School')\n",
    "mask = df.permit_owner.str.contains('Town')\n",
    "#ask = df.street_name.str.contains('UPLAND')\n",
    "df[mask][['tokenId','street_number', 'street_name','permit_owner']]"
   ]
  },
  {
   "cell_type": "code",
   "execution_count": null,
   "id": "0c8b2928-060a-4926-b79c-b78fe34d1489",
   "metadata": {},
   "outputs": [],
   "source": []
  },
  {
   "cell_type": "code",
   "execution_count": null,
   "id": "2a99c170-6b6d-4b51-981a-8b8270387b47",
   "metadata": {},
   "outputs": [],
   "source": []
  },
  {
   "cell_type": "code",
   "execution_count": null,
   "id": "e0265d97-9242-4bcd-8441-aee5c9149110",
   "metadata": {},
   "outputs": [],
   "source": []
  },
  {
   "cell_type": "code",
   "execution_count": null,
   "id": "13589229-a03f-4ee3-b83f-0ddb73f33a11",
   "metadata": {},
   "outputs": [],
   "source": []
  },
  {
   "cell_type": "code",
   "execution_count": 58,
   "id": "a6b392a6-1a57-4790-8d98-ce283f4c0b1a",
   "metadata": {},
   "outputs": [],
   "source": [
    "import numpy as np\n",
    "x = np.linspace(-4.0, 4.0, 240)\n",
    "y = np.linspace(-3.0, 3.0, 180)\n",
    "X, Y = np.meshgrid(x, y)\n",
    "Z1 = np.exp(-2 * np.log(2) * ((X - 0.5) ** 2 + (Y - 0.5) ** 2) / 1 ** 2)\n",
    "Z2 = np.exp(-3 * np.log(2) * ((X + 0.5) ** 2 + (Y + 0.5) ** 2) / 2.5 ** 2)\n",
    "Z = 10.0 * (Z2 - Z1)"
   ]
  },
  {
   "cell_type": "code",
   "execution_count": 60,
   "id": "9c9428ed-4733-460a-b919-a9b00e79c734",
   "metadata": {},
   "outputs": [
    {
     "data": {
      "text/plain": [
       "array([[0.02122529, 0.02293761, 0.0247696 , ..., 0.00180847, 0.00163782,\n",
       "        0.00148217],\n",
       "       [0.02243408, 0.02424392, 0.02618023, ..., 0.00191146, 0.00173109,\n",
       "        0.00156658],\n",
       "       [0.02369399, 0.02560546, 0.02765053, ..., 0.00201881, 0.00182831,\n",
       "        0.00165456],\n",
       "       ...,\n",
       "       [0.00336547, 0.00363697, 0.00392745, ..., 0.00028675, 0.00025969,\n",
       "        0.00023501],\n",
       "       [0.00311622, 0.00336762, 0.00363659, ..., 0.00026551, 0.00024046,\n",
       "        0.00021761],\n",
       "       [0.00288328, 0.00311589, 0.00336475, ..., 0.00024567, 0.00022248,\n",
       "        0.00020134]])"
      ]
     },
     "execution_count": 60,
     "metadata": {},
     "output_type": "execute_result"
    }
   ],
   "source": [
    "Z"
   ]
  },
  {
   "cell_type": "code",
   "execution_count": null,
   "id": "221e2b1e-ea09-4674-af5b-93333c0d70b7",
   "metadata": {},
   "outputs": [],
   "source": []
  }
 ],
 "metadata": {
  "kernelspec": {
   "display_name": "Python 3 (ipykernel)",
   "language": "python",
   "name": "python3"
  },
  "language_info": {
   "codemirror_mode": {
    "name": "ipython",
    "version": 3
   },
   "file_extension": ".py",
   "mimetype": "text/x-python",
   "name": "python",
   "nbconvert_exporter": "python",
   "pygments_lexer": "ipython3",
   "version": "3.8.10"
  }
 },
 "nbformat": 4,
 "nbformat_minor": 5
}
